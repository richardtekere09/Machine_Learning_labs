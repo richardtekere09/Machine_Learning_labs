{
  "cells": [
    {
      "cell_type": "markdown",
      "metadata": {
        "id": "view-in-github",
        "colab_type": "text"
      },
      "source": [
        "<a href=\"https://colab.research.google.com/github/richardtekere09/Machine_Learning_labs/blob/main/lab3_MLP_MNIST.ipynb\" target=\"_parent\"><img src=\"https://colab.research.google.com/assets/colab-badge.svg\" alt=\"Open In Colab\"/></a>"
      ]
    },
    {
      "cell_type": "code",
      "execution_count": null,
      "metadata": {
        "colab": {
          "base_uri": "https://localhost:8080/"
        },
        "id": "QVyrz_ZUpJfy",
        "outputId": "5a2a3baa-c6df-4d4e-d543-10279eb02bb6"
      },
      "outputs": [
        {
          "name": "stdout",
          "output_type": "stream",
          "text": [
            "\n",
            "Training Multilayer Neural Network for XOR operation\n",
            "Epoch 0, Loss: 0.2523590169650226\n",
            "Epoch 1000, Loss: 0.24912588403744385\n",
            "Epoch 2000, Loss: 0.24432837789789769\n",
            "Epoch 3000, Loss: 0.21257018461942884\n",
            "Epoch 4000, Loss: 0.17787245905894977\n",
            "Epoch 5000, Loss: 0.15587905402178748\n",
            "Epoch 6000, Loss: 0.14206528281255576\n",
            "Epoch 7000, Loss: 0.12307177985189097\n",
            "Epoch 8000, Loss: 0.024931194567191343\n",
            "Epoch 9000, Loss: 0.01074432472307528\n"
          ]
        }
      ],
      "source": [
        "import numpy as np\n",
        "import matplotlib.pyplot as plt\n",
        "from sklearn.datasets import load_digits\n",
        "from sklearn.model_selection import train_test_split\n",
        "from sklearn.preprocessing import StandardScaler\n",
        "from tensorflow import keras\n",
        "from tensorflow.keras import layers\n",
        "\n",
        "# Task 1: Multilayer Neural Network for XOR\n",
        "class MultilayerNN:\n",
        "    def __init__(self, input_size, hidden_size, output_size):\n",
        "        self.hidden_weights = np.random.randn(input_size, hidden_size)\n",
        "        self.hidden_bias = np.random.randn(hidden_size)\n",
        "        self.output_weights = np.random.randn(hidden_size, output_size)\n",
        "        self.output_bias = np.random.randn(output_size)\n",
        "\n",
        "    def sigmoid(self, x):\n",
        "        return 1 / (1 + np.exp(-x))\n",
        "\n",
        "    def sigmoid_derivative(self, x):\n",
        "        return x * (1 - x)\n",
        "\n",
        "    def forward(self, inputs):\n",
        "        self.hidden_layer_input = np.dot(inputs, self.hidden_weights) + self.hidden_bias\n",
        "        self.hidden_layer_output = self.sigmoid(self.hidden_layer_input)\n",
        "        self.output_layer_input = np.dot(self.hidden_layer_output, self.output_weights) + self.output_bias\n",
        "        self.output_layer_output = self.sigmoid(self.output_layer_input)\n",
        "        return self.output_layer_output\n",
        "\n",
        "    def backward(self, inputs, outputs, learning_rate):\n",
        "        output_error = outputs - self.output_layer_output\n",
        "        output_delta = output_error * self.sigmoid_derivative(self.output_layer_output)\n",
        "\n",
        "        hidden_error = np.dot(output_delta, self.output_weights.T)\n",
        "        hidden_delta = hidden_error * self.sigmoid_derivative(self.hidden_layer_output)\n",
        "\n",
        "        # Update weights and biases\n",
        "        self.output_weights += np.dot(self.hidden_layer_output.T, output_delta) * learning_rate\n",
        "        self.output_bias += np.sum(output_delta, axis=0) * learning_rate\n",
        "        self.hidden_weights += np.dot(inputs.T, hidden_delta) * learning_rate\n",
        "        self.hidden_bias += np.sum(hidden_delta, axis=0) * learning_rate\n",
        "\n",
        "    def train(self, inputs, outputs, learning_rate=0.1, epochs=10000):\n",
        "        for epoch in range(epochs):\n",
        "            self.forward(inputs)\n",
        "            self.backward(inputs, outputs, learning_rate)\n",
        "            if epoch % 1000 == 0:\n",
        "                loss = np.mean((outputs - self.output_layer_output) ** 2)\n",
        "                print(f\"Epoch {epoch}, Loss: {loss}\")\n",
        "\n",
        "# Define XOR dataset\n",
        "xor_inputs = np.array([[0, 0], [0, 1], [1, 0], [1, 1]])\n",
        "xor_outputs = np.array([[0], [1], [1], [0]])  # XOR truth table\n",
        "\n",
        "# Train a multilayer neural network for XOR\n",
        "print(\"\\nTraining Multilayer Neural Network for XOR operation\")\n",
        "xor_nn = MultilayerNN(input_size=2, hidden_size=2, output_size=1)\n",
        "xor_nn.train(xor_inputs, xor_outputs)\n",
        "\n"
      ]
    },
    {
      "cell_type": "markdown",
      "metadata": {
        "id": "emdeKmfXwJVa"
      },
      "source": [
        "**Task 2**\n",
        "*   Input Layer: 784 neurons (28x28 input size).\n",
        "*   Hidden Layer: 25 neurons.\n",
        "*   Output Layer: 10 separate networks, each with 1 neuron for recognizing one digit (0–9).\n",
        "*   Activation Function: Sigmoid.\n",
        "*   Loss Function: Mean Squared Error (MSE)."
      ]
    },
    {
      "cell_type": "code",
      "execution_count": null,
      "metadata": {
        "colab": {
          "background_save": true,
          "base_uri": "https://localhost:8080/"
        },
        "id": "dNbR38oqwOdQ",
        "outputId": "6b59e590-1844-4ac3-c975-90b547bb8df5"
      },
      "outputs": [
        {
          "name": "stdout",
          "output_type": "stream",
          "text": [
            "\n",
            "Training neural network for digit recognition\n"
          ]
        },
        {
          "name": "stderr",
          "output_type": "stream",
          "text": [
            "<ipython-input-81-b4c5f066b53d>:21: RuntimeWarning: overflow encountered in exp\n",
            "  return 1 / (1 + np.exp(-x))\n"
          ]
        },
        {
          "name": "stdout",
          "output_type": "stream",
          "text": [
            "Epoch 0, MSE: 0.0807\n",
            "Epoch 10, MSE: 0.0766\n",
            "Epoch 20, MSE: 0.0759\n",
            "Epoch 30, MSE: 0.0759\n",
            "Epoch 40, MSE: 0.0753\n",
            "\n",
            "Accuracy: 37.17%\n"
          ]
        },
        {
          "data": {
            "image/png": "[encoded data removed]",
            "text/plain": [
              "<Figure size 640x480 with 1 Axes>"
            ]
          },
          "metadata": {},
          "output_type": "display_data"
        }
      ],
      "source": [
        "# Task 2: Multilayer Neural Network for Digit Recognition (MNIST)\n",
        "class MNISTNeuralNetwork:\n",
        "    def __init__(self, num_classes=10, input_size=784):\n",
        "        self.neurons = [MultilayerNN(input_size, 25, 1) for _ in range(num_classes)]\n",
        "\n",
        "    def train(self, X, y, learning_rate=0.01, epochs=100):\n",
        "        mse_history = []\n",
        "\n",
        "        for epoch in range(epochs):\n",
        "            epoch_mse = 0\n",
        "\n",
        "            for i, image in enumerate(X):\n",
        "                targets = np.zeros(10)\n",
        "                targets[y[i]] = 1\n",
        "                outputs = []\n",
        "\n",
        "                for digit, neuron in enumerate(self.neurons):\n",
        "                    output = neuron.forward(image.reshape(1, -1))\n",
        "                    neuron.backward(image.reshape(1, -1), np.array([[targets[digit]]]), learning_rate)\n",
        "                    outputs.append(output)\n",
        "                epoch_mse += np.mean((targets - np.array(outputs).flatten()) ** 2)\n",
        "\n",
        "            mse_history.append(epoch_mse / len(X))\n",
        "            if epoch % 10 == 0:\n",
        "                print(f\"Epoch {epoch}, MSE: {mse_history[-1]:.4f}\")\n",
        "\n",
        "        return mse_history\n",
        "\n",
        "    def predict(self, X):\n",
        "        predictions = []\n",
        "        for image in X:\n",
        "            outputs = [neuron.forward(image.reshape(1, -1)) for neuron in self.neurons]\n",
        "            predictions.append(np.argmax(outputs))\n",
        "        return predictions\n",
        "\n",
        "# Load the MNIST dataset\n",
        "from tensorflow.keras.datasets import mnist\n",
        "\n",
        "(X_train, y_train), (X_test, y_test) = mnist.load_data()\n",
        "\n",
        "# Preprocess the data\n",
        "X_train = X_train.reshape(-1, 28 * 28).astype(\"float32\") / 255\n",
        "X_test = X_test.reshape(-1, 28 * 28).astype(\"float32\") / 255\n",
        "\n",
        "# Train the MNIST neural network\n",
        "print(\"\\nTraining neural network for digit recognition\")\n",
        "nn = MNISTNeuralNetwork()\n",
        "mse_history = nn.train(X_train, y_train, learning_rate=1.5, epochs=50)\n",
        "\n",
        "# Evaluate the model\n",
        "predictions = nn.predict(X_test)\n",
        "accuracy = np.mean(predictions == y_test)\n",
        "print(f\"\\nAccuracy: {accuracy * 100:.2f}%\")\n",
        "\n",
        "# Plot MSE during training\n",
        "plt.plot(mse_history)\n",
        "plt.title(\"Mean Squared Error during Training\")\n",
        "plt.xlabel(\"Epoch\")\n",
        "plt.ylabel(\"MSE\")\n",
        "plt.show()\n"
      ]
    },
    {
      "cell_type": "markdown",
      "metadata": {
        "id": "sglU8WMAEaJZ"
      },
      "source": [
        "Task 2_2 :\n",
        "\n",
        "*   single output layer with 10 neurons\n",
        "*   ReLU activation\n",
        "* Processes data in batches,\n",
        "* Includes accuracy calculation and plots MSE during training."
      ]
    },
    {
      "cell_type": "code",
      "execution_count": null,
      "metadata": {
        "colab": {
          "base_uri": "https://localhost:8080/",
          "height": 722
        },
        "id": "8QXpkFBGFyzr",
        "outputId": "2ae95048-e5da-4532-e421-aa7c459675c7"
      },
      "outputs": [
        {
          "name": "stdout",
          "output_type": "stream",
          "text": [
            "\n",
            "Training neural network for digit recognition...\n",
            "Epoch 1/10, MSE: 0.0266\n",
            "Epoch 2/10, MSE: 0.0136\n",
            "Epoch 3/10, MSE: 0.0116\n",
            "Epoch 4/10, MSE: 0.0103\n",
            "Epoch 5/10, MSE: 0.0095\n",
            "Epoch 6/10, MSE: 0.0089\n",
            "Epoch 7/10, MSE: 0.0084\n",
            "Epoch 8/10, MSE: 0.0081\n",
            "Epoch 9/10, MSE: 0.0078\n",
            "Epoch 10/10, MSE: 0.0075\n",
            "\n",
            "Accuracy: 95.40%\n"
          ]
        },
        {
          "data": {
            "image/png": "[encoded data removed]",
            "text/plain": [
              "<Figure size 640x480 with 1 Axes>"
            ]
          },
          "metadata": {},
          "output_type": "display_data"
        }
      ],
      "source": [
        "import numpy as np\n",
        "import matplotlib.pyplot as plt\n",
        "from tensorflow.keras.datasets import mnist\n",
        "from tensorflow.keras.utils import to_categorical\n",
        "\n",
        "class MultilayerNN:\n",
        "    def __init__(self, input_size, hidden_size, output_size):\n",
        "        # Initialize weights and biases\n",
        "        self.hidden_weights = np.random.randn(input_size, hidden_size) * 0.1\n",
        "        self.hidden_bias = np.zeros(hidden_size)\n",
        "        self.output_weights = np.random.randn(hidden_size, output_size) * 0.1\n",
        "        self.output_bias = np.zeros(output_size)\n",
        "\n",
        "    def relu(self, x):\n",
        "        return np.maximum(0, x)\n",
        "\n",
        "    def relu_derivative(self, x):\n",
        "        return np.where(x > 0, 1, 0)\n",
        "\n",
        "    def sigmoid(self, x):\n",
        "        return 1 / (1 + np.exp(-x))\n",
        "\n",
        "    def sigmoid_derivative(self, x):\n",
        "        return x * (1 - x)\n",
        "\n",
        "    def forward(self, inputs):\n",
        "        # Forward pass\n",
        "        self.hidden_layer_input = np.dot(inputs, self.hidden_weights) + self.hidden_bias\n",
        "        self.hidden_layer_output = self.relu(self.hidden_layer_input)\n",
        "        self.output_layer_input = np.dot(self.hidden_layer_output, self.output_weights) + self.output_bias\n",
        "        self.output_layer_output = self.sigmoid(self.output_layer_input)\n",
        "        return self.output_layer_output\n",
        "\n",
        "    def backward(self, inputs, targets, learning_rate):\n",
        "        # Backpropagation\n",
        "        output_error = targets - self.output_layer_output\n",
        "        output_delta = output_error * self.sigmoid_derivative(self.output_layer_output)\n",
        "\n",
        "        hidden_error = np.dot(output_delta, self.output_weights.T)\n",
        "        hidden_delta = hidden_error * self.relu_derivative(self.hidden_layer_output)\n",
        "\n",
        "        # Update weights and biases\n",
        "        self.output_weights += np.dot(self.hidden_layer_output.T, output_delta) * learning_rate\n",
        "        self.output_bias += np.sum(output_delta, axis=0) * learning_rate\n",
        "        self.hidden_weights += np.dot(inputs.T, hidden_delta) * learning_rate\n",
        "        self.hidden_bias += np.sum(hidden_delta, axis=0) * learning_rate\n",
        "\n",
        "    def train(self, X, y, learning_rate=0.01, epochs=50, batch_size=32):\n",
        "        mse_history = []\n",
        "        for epoch in range(epochs):\n",
        "            epoch_mse = 0\n",
        "            for i in range(0, len(X), batch_size):\n",
        "                batch_X = X[i:i + batch_size]\n",
        "                batch_y = y[i:i + batch_size]\n",
        "\n",
        "                outputs = self.forward(batch_X)\n",
        "                self.backward(batch_X, batch_y, learning_rate)\n",
        "                epoch_mse += np.mean((batch_y - outputs) ** 2)\n",
        "\n",
        "            mse_history.append(epoch_mse / (len(X) // batch_size))\n",
        "            print(f\"Epoch {epoch + 1}/{epochs}, MSE: {mse_history[-1]:.4f}\")\n",
        "        return mse_history\n",
        "\n",
        "    def predict(self, X):\n",
        "        outputs = self.forward(X)\n",
        "        return np.argmax(outputs, axis=1)\n",
        "\n",
        "# Load the MNIST dataset\n",
        "(X_train, y_train), (X_test, y_test) = mnist.load_data()\n",
        "\n",
        "# Preprocess the data\n",
        "X_train = X_train.reshape(-1, 28 * 28).astype(\"float32\") / 255\n",
        "X_test = X_test.reshape(-1, 28 * 28).astype(\"float32\") / 255\n",
        "y_train = to_categorical(y_train, 10)\n",
        "y_test_labels = y_test  # Save true labels for accuracy calculation\n",
        "y_test = to_categorical(y_test, 10)\n",
        "\n",
        "# Initialize and train the neural network\n",
        "nn = MultilayerNN(input_size=784, hidden_size=25, output_size=10)\n",
        "print(\"\\nTraining neural network for digit recognition...\")\n",
        "mse_history = nn.train(X_train, y_train, learning_rate=0.01, epochs=10, batch_size=64)\n",
        "\n",
        "# Evaluate the model\n",
        "predictions = nn.predict(X_test)\n",
        "accuracy = np.mean(predictions == y_test_labels)\n",
        "print(f\"\\nAccuracy: {accuracy * 100:.2f}%\")\n",
        "\n",
        "# Plot MSE during training\n",
        "plt.plot(mse_history)\n",
        "plt.title(\"Mean Squared Error during Training\")\n",
        "plt.xlabel(\"Epoch\")\n",
        "plt.ylabel(\"MSE\")\n",
        "plt.show()\n"
      ]
    },
    {
      "cell_type": "markdown",
      "metadata": {
        "id": "uAJxlKpXwV2F"
      },
      "source": [
        "Task 3"
      ]
    },
    {
      "cell_type": "code",
      "execution_count": null,
      "metadata": {
        "colab": {
          "base_uri": "https://localhost:8080/"
        },
        "id": "x24hMdv1wXzQ",
        "outputId": "128d6aa7-ac02-4a6c-cf8f-404968658212"
      },
      "outputs": [
        {
          "name": "stdout",
          "output_type": "stream",
          "text": [
            "\n",
            "Training neural network using Keras\n",
            "Epoch 1/5\n",
            "\u001b[1m1500/1500\u001b[0m \u001b[32m━━━━━━━━━━━━━━━━━━━━\u001b[0m\u001b[37m\u001b[0m \u001b[1m7s\u001b[0m 4ms/step - accuracy: 0.8645 - loss: 0.4867 - val_accuracy: 0.9545 - val_loss: 0.1624\n",
            "Epoch 2/5\n",
            "\u001b[1m1500/1500\u001b[0m \u001b[32m━━━━━━━━━━━━━━━━━━━━\u001b[0m\u001b[37m\u001b[0m \u001b[1m9s\u001b[0m 3ms/step - accuracy: 0.9581 - loss: 0.1459 - val_accuracy: 0.9645 - val_loss: 0.1265\n",
            "Epoch 3/5\n",
            "\u001b[1m1500/1500\u001b[0m \u001b[32m━━━━━━━━━━━━━━━━━━━━\u001b[0m\u001b[37m\u001b[0m \u001b[1m6s\u001b[0m 4ms/step - accuracy: 0.9712 - loss: 0.0952 - val_accuracy: 0.9675 - val_loss: 0.1088\n",
            "Epoch 4/5\n",
            "\u001b[1m1500/1500\u001b[0m \u001b[32m━━━━━━━━━━━━━━━━━━━━\u001b[0m\u001b[37m\u001b[0m \u001b[1m11s\u001b[0m 4ms/step - accuracy: 0.9791 - loss: 0.0706 - val_accuracy: 0.9711 - val_loss: 0.0948\n",
            "Epoch 5/5\n",
            "\u001b[1m1500/1500\u001b[0m \u001b[32m━━━━━━━━━━━━━━━━━━━━\u001b[0m\u001b[37m\u001b[0m \u001b[1m8s\u001b[0m 3ms/step - accuracy: 0.9858 - loss: 0.0485 - val_accuracy: 0.9718 - val_loss: 0.0945\n",
            "\u001b[1m313/313\u001b[0m \u001b[32m━━━━━━━━━━━━━━━━━━━━\u001b[0m\u001b[37m\u001b[0m \u001b[1m1s\u001b[0m 1ms/step - accuracy: 0.9691 - loss: 0.0966\n",
            "Keras Model Accuracy: 97.34%\n"
          ]
        }
      ],
      "source": [
        "# Task 3: Implement using Keras\n",
        "print(\"\\nTraining neural network using Keras\")\n",
        "(X_train, y_train), (X_test, y_test) = keras.datasets.mnist.load_data()\n",
        "\n",
        "# Preprocess data\n",
        "X_train = X_train.reshape(-1, 28 * 28).astype(\"float32\") / 255\n",
        "X_test = X_test.reshape(-1, 28 * 28).astype(\"float32\") / 255\n",
        "\n",
        "y_train = keras.utils.to_categorical(y_train, 10)\n",
        "y_test = keras.utils.to_categorical(y_test, 10)\n",
        "\n",
        "# Build the model\n",
        "model = keras.Sequential([\n",
        "    layers.Dense(128, activation=\"relu\", input_shape=(784,)),\n",
        "    layers.Dense(10, activation=\"softmax\")\n",
        "])\n",
        "\n",
        "# Compile the model\n",
        "model.compile(optimizer=\"adam\", loss=\"categorical_crossentropy\", metrics=[\"accuracy\"])\n",
        "\n",
        "# Train the model\n",
        "model.fit(X_train, y_train, epochs=5, batch_size=32, validation_split=0.2)\n",
        "\n",
        "# Evaluate the model\n",
        "loss, accuracy = model.evaluate(X_test, y_test)\n",
        "print(f\"Keras Model Accuracy: {accuracy * 100:.2f}%\")\n",
        "\n"
      ]
    },
    {
      "cell_type": "markdown",
      "metadata": {
        "id": "FeiK_nWqwafc"
      },
      "source": [
        "Task 4"
      ]
    },
    {
      "cell_type": "code",
      "execution_count": null,
      "metadata": {
        "colab": {
          "base_uri": "https://localhost:8080/"
        },
        "id": "zz-Iotr5wb1p",
        "outputId": "1aba646c-e820-49ad-8b21-5b6180eb76fa"
      },
      "outputs": [
        {
          "name": "stdout",
          "output_type": "stream",
          "text": [
            "Custom Neural Network Prediction: [8]\n",
            "\u001b[1m1/1\u001b[0m \u001b[32m━━━━━━━━━━━━━━━━━━━━\u001b[0m\u001b[37m\u001b[0m \u001b[1m0s\u001b[0m 24ms/step\n",
            "Keras Model Prediction: 3\n"
          ]
        }
      ],
      "source": [
        "# Task 4: Custom Data Test\n",
        "from PIL import Image\n",
        "\n",
        "# Load a custom image (28x28 grayscale)\n",
        "def load_custom_image(filepath):\n",
        "    img = Image.open(filepath).convert(\"L\")  # Convert to grayscale\n",
        "    img = img.resize((28, 28))  # Resize to 28x28\n",
        "    img = np.array(img).astype(\"float32\") / 255  # Normalize pixel values\n",
        "    return img.reshape(1, -1)\n",
        "\n",
        "# Test the custom image with both models\n",
        "custom_image_path = \"MNIST.png\"  # Replace with your image path\n",
        "custom_image = load_custom_image(custom_image_path)\n",
        "\n",
        "custom_prediction_nn = nn.predict(custom_image)\n",
        "print(f\"Custom Neural Network Prediction: {custom_prediction_nn}\")\n",
        "\n",
        "# Predict using Keras model\n",
        "custom_prediction_keras = model.predict(custom_image)\n",
        "print(f\"Keras Model Prediction: {np.argmax(custom_prediction_keras)}\")\n"
      ]
    }
  ],
  "metadata": {
    "colab": {
      "provenance": [],
      "authorship_tag": "ABX9TyMCNyqhJJvl0GWU3uAU8kiK",
      "include_colab_link": true
    },
    "kernelspec": {
      "display_name": "Python 3",
      "name": "python3"
    },
    "language_info": {
      "name": "python"
    }
  },
  "nbformat": 4,
  "nbformat_minor": 0
}